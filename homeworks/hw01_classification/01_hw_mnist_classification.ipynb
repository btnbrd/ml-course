{
  "cells": [
    {
      "cell_type": "markdown",
      "metadata": {
        "id": "view-in-github",
        "colab_type": "text"
      },
      "source": [
        "<a href=\"https://colab.research.google.com/github/btnbrd/ml-course/blob/25s_ml_trainings_3/homeworks/hw01_classification/01_hw_mnist_classification.ipynb\" target=\"_parent\"><img src=\"https://colab.research.google.com/assets/colab-badge.svg\" alt=\"Open In Colab\"/></a>"
      ]
    },
    {
      "cell_type": "markdown",
      "metadata": {
        "id": "c2hXltAQyKcY"
      },
      "source": [
        "## Классификация FashionMNIST\n",
        "\n",
        "##### Автор: [Радослав Нейчев](https://www.linkedin.com/in/radoslav-neychev/), https://t.me/s/girafe_ai"
      ]
    },
    {
      "cell_type": "code",
      "execution_count": 1,
      "metadata": {
        "id": "CBOe7XKeyKca"
      },
      "outputs": [],
      "source": [
        "import numpy as np\n",
        "\n",
        "import torch\n",
        "from torch import nn\n",
        "from torch.nn import functional as F\n",
        "\n",
        "import torchvision\n",
        "from torchvision.datasets import MNIST\n",
        "\n",
        "from matplotlib import pyplot as plt\n",
        "from IPython.display import clear_output"
      ]
    },
    {
      "cell_type": "markdown",
      "metadata": {
        "id": "3huAZJ73yKca"
      },
      "source": [
        "Давайте обратимся к классической задаче распознавания рукописных цифр. Мы будем работать с набором данных [MNIST](http://yann.lecun.com/exdb/mnist/). В этом задании мы воспользуемся всем датасетом целиком.\n",
        "\n",
        "__Ваша основная задача: реализовать весь пайплайн обучения модели и добиться качества $\\geq 92\\%$ на тестовой выборке.__\n",
        "\n",
        "Код для обучения модели в данном задании отсутствует. Присутствует лишь несколько тестов, которые помогут вам отладить свое решение. За примером можно обратиться к ноутбуку с первого занятия.\n",
        "\n",
        "Мы настоятельно рекомендуем писать код «с нуля», лишь изредка подглядывая в готовые примеры, а не просто «копировать-вставлять». Это поможет вам в будущем."
      ]
    },
    {
      "cell_type": "code",
      "execution_count": 2,
      "metadata": {
        "colab": {
          "base_uri": "https://localhost:8080/",
          "height": 541
        },
        "id": "jY95GcI4yKcb",
        "outputId": "caf7da57-24c4-49e1-a5cc-a3fe6b21b912"
      },
      "outputs": [
        {
          "output_type": "stream",
          "name": "stderr",
          "text": [
            "100%|██████████| 9.91M/9.91M [00:01<00:00, 6.06MB/s]\n",
            "100%|██████████| 28.9k/28.9k [00:00<00:00, 160kB/s]\n",
            "100%|██████████| 1.65M/1.65M [00:01<00:00, 1.51MB/s]\n",
            "100%|██████████| 4.54k/4.54k [00:00<00:00, 5.81MB/s]\n"
          ]
        },
        {
          "output_type": "execute_result",
          "data": {
            "text/plain": [
              "Text(0.5, 1.0, 'Image label: 1')"
            ]
          },
          "metadata": {},
          "execution_count": 2
        },
        {
          "output_type": "display_data",
          "data": {
            "text/plain": [
              "<Figure size 640x480 with 1 Axes>"
            ],
            "image/png": "[encoded data removed]"
          },
          "metadata": {}
        }
      ],
      "source": [
        "# do not change the code in the block below\n",
        "# __________start of block__________\n",
        "\n",
        "train_mnist_data = MNIST('.', train=True, transform=torchvision.transforms.ToTensor(), download=True)\n",
        "test_mnist_data = MNIST('.', train=False, transform=torchvision.transforms.ToTensor(), download=True)\n",
        "\n",
        "\n",
        "train_data_loader = torch.utils.data.DataLoader(\n",
        "    train_mnist_data,\n",
        "    batch_size=32,\n",
        "    shuffle=True,\n",
        "    num_workers=2\n",
        ")\n",
        "\n",
        "test_data_loader = torch.utils.data.DataLoader(\n",
        "    test_mnist_data,\n",
        "    batch_size=32,\n",
        "    shuffle=False,\n",
        "    num_workers=2\n",
        ")\n",
        "\n",
        "random_batch = next(iter(train_data_loader))\n",
        "_image, _label = random_batch[0][0], random_batch[1][0]\n",
        "plt.figure()\n",
        "plt.imshow(_image.reshape(28, 28))\n",
        "plt.title(f'Image label: {_label}')\n",
        "# __________end of block__________"
      ]
    },
    {
      "cell_type": "markdown",
      "metadata": {
        "id": "sH4Mk690yKcb"
      },
      "source": [
        "Постройте модель, представленную ниже. Пожалуйста, не создавайте чрезмерно сложную сеть — она не должна быть глубже четырёх слоёв (можно и меньше). Ваша основная задача — обучить модель и добиться как минимум 92% точности на тестовой выборке (hold-out выборке).\n",
        "\n",
        "*Примечание: линейных слоёв и функций активации должно быть достаточно.*\n",
        "\n",
        "__Обратите внимание, ваша модель должна быть представлена переменной `model`__"
      ]
    },
    {
      "cell_type": "code",
      "source": [
        "class CLS(nn.Module):\n",
        "    def __init__(self):\n",
        "        super(CLS, self).__init__()\n",
        "        # Входной размер: 28x28 = 784 (MNIST изображения разворачиваем в вектор)\n",
        "        self.flatten = nn.Flatten()  # Разворачиваем изображение в вектор\n",
        "        # Полносвязные слои\n",
        "        self.fc1 = nn.Linear(784, 256)  # Первый слой: 784 -> 256\n",
        "        self.relu1 = nn.ReLU()          # Функция активации\n",
        "        self.fc2 = nn.Linear(256, 128)  # Второй слой: 256 -> 128\n",
        "        self.relu2 = nn.ReLU()          # Функция активации\n",
        "        self.fc3 = nn.Linear(128, 10)   # Выходной слой: 128 -> 10 (10 классов)\n",
        "\n",
        "    def forward(self, x):\n",
        "        x = self.flatten(x)  # Разворачиваем изображение\n",
        "        x = self.fc1(x)\n",
        "        x = self.relu1(x)\n",
        "        x = self.fc2(x)\n",
        "        x = self.relu2(x)\n",
        "        x = self.fc3(x)  # Логиты (без softmax, так как CrossEntropyLoss сам применяет его)\n",
        "        return x"
      ],
      "metadata": {
        "id": "ftXl8AmbyiAY"
      },
      "execution_count": 12,
      "outputs": []
    },
    {
      "cell_type": "code",
      "execution_count": 13,
      "metadata": {
        "id": "DOkP7huJyKcb"
      },
      "outputs": [],
      "source": [
        "# Creating model instance\n",
        "model = CLS() # your code here"
      ]
    },
    {
      "cell_type": "markdown",
      "metadata": {
        "id": "YI8GBwv8yKcb"
      },
      "source": [
        "Ниже доступны локальные тесты для проверки вашей модели:"
      ]
    },
    {
      "cell_type": "code",
      "execution_count": 14,
      "metadata": {
        "colab": {
          "base_uri": "https://localhost:8080/"
        },
        "id": "GlKZ3eBWyKcb",
        "outputId": "1cd4739e-495e-423b-dacf-233eac6a3e91"
      },
      "outputs": [
        {
          "output_type": "stream",
          "name": "stdout",
          "text": [
            "torch.Size([32, 1, 28, 28])\n",
            "torch.Size([32, 784])\n",
            "Everything seems fine!\n"
          ]
        }
      ],
      "source": [
        "# do not change the code in the block below\n",
        "# __________start of block__________\n",
        "assert model is not None, 'Please, use `model` variable to store your model'\n",
        "\n",
        "try:\n",
        "    print(random_batch[0].shape)\n",
        "    x = random_batch[0].reshape(-1, 784)\n",
        "    y = random_batch[1]\n",
        "    print(x.shape)\n",
        "    # compute outputs given inputs, both are variables\n",
        "    y_predicted = model(x)\n",
        "except Exception as e:\n",
        "    print('Something is wrong with the model')\n",
        "    raise e\n",
        "\n",
        "\n",
        "assert y_predicted.shape[-1] == 10, 'Model should predict 10 logits/probas'\n",
        "\n",
        "print('Everything seems fine!')\n",
        "# __________end of block__________"
      ]
    },
    {
      "cell_type": "markdown",
      "metadata": {
        "id": "W4HA9rCxyKcc"
      },
      "source": [
        "Обучите модель на обучающей выборке. Рекомендуем поэкспериментировать с различными оптимизаторами.\n"
      ]
    },
    {
      "cell_type": "code",
      "execution_count": 16,
      "metadata": {
        "colab": {
          "base_uri": "https://localhost:8080/"
        },
        "id": "P1GItvt5yKcc",
        "outputId": "52f29814-29b8-4e4a-8a16-47b5085af6eb"
      },
      "outputs": [
        {
          "output_type": "stream",
          "name": "stdout",
          "text": [
            "Using device: cpu\n"
          ]
        }
      ],
      "source": [
        "opt = torch.optim.AdamW(model.parameters())\n",
        "\n",
        "device = torch.device(\"cuda\" if torch.cuda.is_available() else \"cpu\")\n",
        "print(f\"Using device: {device}\")\n",
        "\n",
        "# Функция для обучения модели\n",
        "def train_model(model, train_loader, criterion, optimizer, num_epochs=5):\n",
        "    model.train()\n",
        "    for epoch in range(num_epochs):\n",
        "        running_loss = 0.0\n",
        "        for i, (images, labels) in enumerate(train_loader):\n",
        "            images, labels = images.to(device), labels.to(device)\n",
        "\n",
        "            # Прямой проход\n",
        "            outputs = model(images)\n",
        "            loss = criterion(outputs, labels)\n",
        "\n",
        "            # Обратное распространение\n",
        "            optimizer.zero_grad()\n",
        "            loss.backward()\n",
        "            optimizer.step()\n",
        "\n",
        "            running_loss += loss.item()\n",
        "            if (i + 1) % 200 == 0:\n",
        "                print(f'Epoch [{epoch+1}/{num_epochs}], Step [{i+1}/{len(train_loader)}], Loss: {running_loss/200:.4f}')\n",
        "                running_loss = 0.0\n",
        "    print(\"Training finished!\")"
      ]
    },
    {
      "cell_type": "code",
      "source": [
        "def evaluate_model(model, test_loader):\n",
        "    model.eval()\n",
        "    correct = 0\n",
        "    total = 0\n",
        "    with torch.no_grad():\n",
        "        for images, labels in test_loader:\n",
        "            images, labels = images.to(device), labels.to(device)\n",
        "            outputs = model(images)\n",
        "            _, predicted = torch.max(outputs.data, 1)\n",
        "            total += labels.size(0)\n",
        "            correct += (predicted == labels).sum().item()\n",
        "    accuracy = 100 * correct / total\n",
        "    return accuracy\n",
        "\n",
        "# Список оптимизаторов для экспериментов\n",
        "optimizers = {\n",
        "    \"SGD\": lambda params: torch.optim.SGD(params, lr=0.01, momentum=0.9),\n",
        "    \"Adam\": lambda params: torch.optim.Adam(params, lr=0.001),\n",
        "    \"RMSprop\": lambda params: torch.optim.RMSprop(params, lr=0.001)\n",
        "}\n",
        "\n",
        "# Функция потерь\n",
        "criterion = nn.CrossEntropyLoss()\n",
        "\n",
        "# Экспериментируем с каждым оптимизатором\n",
        "results = {}\n",
        "num_epochs = 5\n",
        "\n",
        "for opt_name, opt_fn in optimizers.items():\n",
        "    print(f\"\\n=== Training with {opt_name} ===\")\n",
        "\n",
        "    # Создаём новую модель для каждого оптимизатора\n",
        "    model = CLS().to(device)\n",
        "    optimizer = opt_fn(model.parameters())\n",
        "\n",
        "    # Обучаем модель\n",
        "    train_model(model, train_data_loader, criterion, optimizer, num_epochs)\n",
        "\n",
        "    # Оцениваем модель\n",
        "    accuracy = evaluate_model(model, test_data_loader)\n",
        "    results[opt_name] = accuracy\n",
        "    print(f\"Accuracy with {opt_name}: {accuracy:.2f}%\")\n",
        "\n",
        "# Выводим результаты\n",
        "print(\"\\n=== Summary ===\")\n",
        "for opt_name, accuracy in results.items():\n",
        "    print(f\"{opt_name}: {accuracy:.2f}%\")\n",
        "    if accuracy >= 92:\n",
        "        print(f\"Target accuracy of 92% achieved with {opt_name}!\")\n",
        "    else:\n",
        "        print(f\"Target accuracy of 92% not achieved with {opt_name}.\")\n",
        "\n",
        "# Визуализация случайного изображения (как в вашем коде)\n",
        "random_batch = next(iter(train_data_loader))\n",
        "_image, _label = random_batch[0][0], random_batch[1][0]\n",
        "plt.figure()\n",
        "plt.imshow(_image.reshape(28, 28), cmap='gray')  # Добавляем cmap='gray' для корректного отображения\n",
        "plt.title(f'Image label: {_label}')\n",
        "plt.show()"
      ],
      "metadata": {
        "colab": {
          "base_uri": "https://localhost:8080/",
          "height": 1000
        },
        "id": "KMbiuncG0Sl6",
        "outputId": "cf13bae9-22d4-4f57-f64b-78391d97acfa"
      },
      "execution_count": 18,
      "outputs": [
        {
          "output_type": "stream",
          "name": "stdout",
          "text": [
            "\n",
            "=== Training with SGD ===\n",
            "Epoch [1/5], Step [200/1875], Loss: 1.3149\n",
            "Epoch [1/5], Step [400/1875], Loss: 0.4284\n",
            "Epoch [1/5], Step [600/1875], Loss: 0.3440\n",
            "Epoch [1/5], Step [800/1875], Loss: 0.2848\n",
            "Epoch [1/5], Step [1000/1875], Loss: 0.2570\n",
            "Epoch [1/5], Step [1200/1875], Loss: 0.2364\n",
            "Epoch [1/5], Step [1400/1875], Loss: 0.2187\n",
            "Epoch [1/5], Step [1600/1875], Loss: 0.1933\n",
            "Epoch [1/5], Step [1800/1875], Loss: 0.1904\n",
            "Epoch [2/5], Step [200/1875], Loss: 0.1470\n",
            "Epoch [2/5], Step [400/1875], Loss: 0.1394\n",
            "Epoch [2/5], Step [600/1875], Loss: 0.1386\n",
            "Epoch [2/5], Step [800/1875], Loss: 0.1306\n",
            "Epoch [2/5], Step [1000/1875], Loss: 0.1233\n",
            "Epoch [2/5], Step [1200/1875], Loss: 0.1281\n",
            "Epoch [2/5], Step [1400/1875], Loss: 0.1180\n",
            "Epoch [2/5], Step [1600/1875], Loss: 0.1227\n",
            "Epoch [2/5], Step [1800/1875], Loss: 0.1015\n",
            "Epoch [3/5], Step [200/1875], Loss: 0.0853\n",
            "Epoch [3/5], Step [400/1875], Loss: 0.0914\n",
            "Epoch [3/5], Step [600/1875], Loss: 0.0760\n",
            "Epoch [3/5], Step [800/1875], Loss: 0.0935\n",
            "Epoch [3/5], Step [1000/1875], Loss: 0.0852\n",
            "Epoch [3/5], Step [1200/1875], Loss: 0.0838\n",
            "Epoch [3/5], Step [1400/1875], Loss: 0.0767\n",
            "Epoch [3/5], Step [1600/1875], Loss: 0.0911\n",
            "Epoch [3/5], Step [1800/1875], Loss: 0.0847\n",
            "Epoch [4/5], Step [200/1875], Loss: 0.0597\n",
            "Epoch [4/5], Step [400/1875], Loss: 0.0550\n",
            "Epoch [4/5], Step [600/1875], Loss: 0.0756\n",
            "Epoch [4/5], Step [800/1875], Loss: 0.0687\n",
            "Epoch [4/5], Step [1000/1875], Loss: 0.0653\n",
            "Epoch [4/5], Step [1200/1875], Loss: 0.0640\n",
            "Epoch [4/5], Step [1400/1875], Loss: 0.0662\n",
            "Epoch [4/5], Step [1600/1875], Loss: 0.0537\n",
            "Epoch [4/5], Step [1800/1875], Loss: 0.0513\n",
            "Epoch [5/5], Step [200/1875], Loss: 0.0479\n",
            "Epoch [5/5], Step [400/1875], Loss: 0.0439\n",
            "Epoch [5/5], Step [600/1875], Loss: 0.0516\n",
            "Epoch [5/5], Step [800/1875], Loss: 0.0470\n",
            "Epoch [5/5], Step [1000/1875], Loss: 0.0433\n",
            "Epoch [5/5], Step [1200/1875], Loss: 0.0419\n",
            "Epoch [5/5], Step [1400/1875], Loss: 0.0577\n",
            "Epoch [5/5], Step [1600/1875], Loss: 0.0525\n",
            "Epoch [5/5], Step [1800/1875], Loss: 0.0512\n",
            "Training finished!\n",
            "Accuracy with SGD: 97.97%\n",
            "\n",
            "=== Training with Adam ===\n",
            "Epoch [1/5], Step [200/1875], Loss: 0.6731\n",
            "Epoch [1/5], Step [400/1875], Loss: 0.3252\n",
            "Epoch [1/5], Step [600/1875], Loss: 0.2439\n",
            "Epoch [1/5], Step [800/1875], Loss: 0.1961\n",
            "Epoch [1/5], Step [1000/1875], Loss: 0.1820\n",
            "Epoch [1/5], Step [1200/1875], Loss: 0.1670\n",
            "Epoch [1/5], Step [1400/1875], Loss: 0.1455\n",
            "Epoch [1/5], Step [1600/1875], Loss: 0.1308\n",
            "Epoch [1/5], Step [1800/1875], Loss: 0.1307\n",
            "Epoch [2/5], Step [200/1875], Loss: 0.1042\n",
            "Epoch [2/5], Step [400/1875], Loss: 0.0929\n",
            "Epoch [2/5], Step [600/1875], Loss: 0.0922\n",
            "Epoch [2/5], Step [800/1875], Loss: 0.1009\n",
            "Epoch [2/5], Step [1000/1875], Loss: 0.1047\n",
            "Epoch [2/5], Step [1200/1875], Loss: 0.0929\n",
            "Epoch [2/5], Step [1400/1875], Loss: 0.0946\n",
            "Epoch [2/5], Step [1600/1875], Loss: 0.0862\n",
            "Epoch [2/5], Step [1800/1875], Loss: 0.0862\n",
            "Epoch [3/5], Step [200/1875], Loss: 0.0615\n",
            "Epoch [3/5], Step [400/1875], Loss: 0.0669\n",
            "Epoch [3/5], Step [600/1875], Loss: 0.0564\n",
            "Epoch [3/5], Step [800/1875], Loss: 0.0697\n",
            "Epoch [3/5], Step [1000/1875], Loss: 0.0635\n",
            "Epoch [3/5], Step [1200/1875], Loss: 0.0644\n",
            "Epoch [3/5], Step [1400/1875], Loss: 0.0626\n",
            "Epoch [3/5], Step [1600/1875], Loss: 0.0642\n",
            "Epoch [3/5], Step [1800/1875], Loss: 0.0587\n",
            "Epoch [4/5], Step [200/1875], Loss: 0.0432\n",
            "Epoch [4/5], Step [400/1875], Loss: 0.0514\n",
            "Epoch [4/5], Step [600/1875], Loss: 0.0473\n",
            "Epoch [4/5], Step [800/1875], Loss: 0.0413\n",
            "Epoch [4/5], Step [1000/1875], Loss: 0.0407\n",
            "Epoch [4/5], Step [1200/1875], Loss: 0.0494\n",
            "Epoch [4/5], Step [1400/1875], Loss: 0.0591\n",
            "Epoch [4/5], Step [1600/1875], Loss: 0.0510\n",
            "Epoch [4/5], Step [1800/1875], Loss: 0.0501\n",
            "Epoch [5/5], Step [200/1875], Loss: 0.0309\n",
            "Epoch [5/5], Step [400/1875], Loss: 0.0394\n",
            "Epoch [5/5], Step [600/1875], Loss: 0.0371\n",
            "Epoch [5/5], Step [800/1875], Loss: 0.0391\n",
            "Epoch [5/5], Step [1000/1875], Loss: 0.0382\n",
            "Epoch [5/5], Step [1200/1875], Loss: 0.0389\n",
            "Epoch [5/5], Step [1400/1875], Loss: 0.0356\n",
            "Epoch [5/5], Step [1600/1875], Loss: 0.0520\n",
            "Epoch [5/5], Step [1800/1875], Loss: 0.0369\n",
            "Training finished!\n",
            "Accuracy with Adam: 97.59%\n",
            "\n",
            "=== Training with RMSprop ===\n",
            "Epoch [1/5], Step [200/1875], Loss: 0.5577\n",
            "Epoch [1/5], Step [400/1875], Loss: 0.2604\n",
            "Epoch [1/5], Step [600/1875], Loss: 0.2028\n",
            "Epoch [1/5], Step [800/1875], Loss: 0.1766\n",
            "Epoch [1/5], Step [1000/1875], Loss: 0.1645\n",
            "Epoch [1/5], Step [1200/1875], Loss: 0.1514\n",
            "Epoch [1/5], Step [1400/1875], Loss: 0.1395\n",
            "Epoch [1/5], Step [1600/1875], Loss: 0.1330\n",
            "Epoch [1/5], Step [1800/1875], Loss: 0.1159\n",
            "Epoch [2/5], Step [200/1875], Loss: 0.0961\n",
            "Epoch [2/5], Step [400/1875], Loss: 0.0890\n",
            "Epoch [2/5], Step [600/1875], Loss: 0.0827\n",
            "Epoch [2/5], Step [800/1875], Loss: 0.0875\n",
            "Epoch [2/5], Step [1000/1875], Loss: 0.0870\n",
            "Epoch [2/5], Step [1200/1875], Loss: 0.0847\n",
            "Epoch [2/5], Step [1400/1875], Loss: 0.0936\n",
            "Epoch [2/5], Step [1600/1875], Loss: 0.0847\n",
            "Epoch [2/5], Step [1800/1875], Loss: 0.0868\n",
            "Epoch [3/5], Step [200/1875], Loss: 0.0510\n",
            "Epoch [3/5], Step [400/1875], Loss: 0.0518\n",
            "Epoch [3/5], Step [600/1875], Loss: 0.0576\n",
            "Epoch [3/5], Step [800/1875], Loss: 0.0606\n",
            "Epoch [3/5], Step [1000/1875], Loss: 0.0681\n",
            "Epoch [3/5], Step [1200/1875], Loss: 0.0579\n",
            "Epoch [3/5], Step [1400/1875], Loss: 0.0612\n",
            "Epoch [3/5], Step [1600/1875], Loss: 0.0604\n",
            "Epoch [3/5], Step [1800/1875], Loss: 0.0633\n",
            "Epoch [4/5], Step [200/1875], Loss: 0.0427\n",
            "Epoch [4/5], Step [400/1875], Loss: 0.0381\n",
            "Epoch [4/5], Step [600/1875], Loss: 0.0456\n",
            "Epoch [4/5], Step [800/1875], Loss: 0.0539\n",
            "Epoch [4/5], Step [1000/1875], Loss: 0.0423\n",
            "Epoch [4/5], Step [1200/1875], Loss: 0.0511\n",
            "Epoch [4/5], Step [1400/1875], Loss: 0.0443\n",
            "Epoch [4/5], Step [1600/1875], Loss: 0.0461\n",
            "Epoch [4/5], Step [1800/1875], Loss: 0.0420\n",
            "Epoch [5/5], Step [200/1875], Loss: 0.0366\n",
            "Epoch [5/5], Step [400/1875], Loss: 0.0303\n",
            "Epoch [5/5], Step [600/1875], Loss: 0.0374\n",
            "Epoch [5/5], Step [800/1875], Loss: 0.0287\n",
            "Epoch [5/5], Step [1000/1875], Loss: 0.0403\n",
            "Epoch [5/5], Step [1200/1875], Loss: 0.0376\n",
            "Epoch [5/5], Step [1400/1875], Loss: 0.0377\n",
            "Epoch [5/5], Step [1600/1875], Loss: 0.0327\n",
            "Epoch [5/5], Step [1800/1875], Loss: 0.0400\n",
            "Training finished!\n",
            "Accuracy with RMSprop: 97.95%\n",
            "\n",
            "=== Summary ===\n",
            "SGD: 97.97%\n",
            "Target accuracy of 92% achieved with SGD!\n",
            "Adam: 97.59%\n",
            "Target accuracy of 92% achieved with Adam!\n",
            "RMSprop: 97.95%\n",
            "Target accuracy of 92% achieved with RMSprop!\n"
          ]
        },
        {
          "output_type": "display_data",
          "data": {
            "text/plain": [
              "<Figure size 640x480 with 1 Axes>"
            ],
            "image/png": "[encoded data removed]"
          },
          "metadata": {}
        }
      ]
    },
    {
      "cell_type": "markdown",
      "metadata": {
        "id": "86lGegciyKcc"
      },
      "source": [
        "Также помните, что вы всегда можете обратиться к отличной [документации](https://pytorch.org/docs/stable/index.html) и [учебным материалам](https://pytorch.org/tutorials/)."
      ]
    },
    {
      "cell_type": "markdown",
      "metadata": {
        "id": "FNBlE-j9yKcc"
      },
      "source": [
        "Оценим качество классификации:"
      ]
    },
    {
      "cell_type": "code",
      "execution_count": 19,
      "metadata": {
        "id": "VyDyeWLVyKcc"
      },
      "outputs": [],
      "source": [
        "predicted_labels = []\n",
        "real_labels = []\n",
        "model.eval()\n",
        "with torch.no_grad():\n",
        "    for batch in train_data_loader:\n",
        "        y_predicted = model(batch[0].reshape(-1, 784))\n",
        "        predicted_labels.append(y_predicted.argmax(dim=1))\n",
        "        real_labels.append(batch[1])\n",
        "\n",
        "predicted_labels = torch.cat(predicted_labels)\n",
        "real_labels = torch.cat(real_labels)\n",
        "train_acc = (predicted_labels == real_labels).type(torch.FloatTensor).mean()"
      ]
    },
    {
      "cell_type": "code",
      "execution_count": 20,
      "metadata": {
        "colab": {
          "base_uri": "https://localhost:8080/"
        },
        "id": "elS2POqWyKcc",
        "outputId": "bb8a1ccc-e365-4341-e8fd-7b0d71508be7"
      },
      "outputs": [
        {
          "output_type": "stream",
          "name": "stdout",
          "text": [
            "Neural network accuracy on train set: 0.99252\n"
          ]
        }
      ],
      "source": [
        "print(f'Neural network accuracy on train set: {train_acc:3.5}')"
      ]
    },
    {
      "cell_type": "code",
      "execution_count": 21,
      "metadata": {
        "id": "VTPYxI_NyKcc"
      },
      "outputs": [],
      "source": [
        "predicted_labels = []\n",
        "real_labels = []\n",
        "model.eval()\n",
        "with torch.no_grad():\n",
        "    for batch in test_data_loader:\n",
        "        y_predicted = model(batch[0].reshape(-1, 784))\n",
        "        predicted_labels.append(y_predicted.argmax(dim=1))\n",
        "        real_labels.append(batch[1])\n",
        "\n",
        "predicted_labels = torch.cat(predicted_labels)\n",
        "real_labels = torch.cat(real_labels)\n",
        "test_acc = (predicted_labels == real_labels).type(torch.FloatTensor).mean()"
      ]
    },
    {
      "cell_type": "code",
      "execution_count": 22,
      "metadata": {
        "colab": {
          "base_uri": "https://localhost:8080/"
        },
        "id": "y-PDrHB4yKcc",
        "outputId": "a55d9ba5-40c6-4868-c932-305ca0a6bab2"
      },
      "outputs": [
        {
          "output_type": "stream",
          "name": "stdout",
          "text": [
            "Neural network accuracy on test set: 0.9795\n"
          ]
        }
      ],
      "source": [
        "print(f'Neural network accuracy on test set: {test_acc:3.5}')"
      ]
    },
    {
      "cell_type": "markdown",
      "metadata": {
        "id": "hXSWrQIgyKcc"
      },
      "source": [
        "Проверка, что пороги пройдены:"
      ]
    },
    {
      "cell_type": "code",
      "execution_count": 23,
      "metadata": {
        "id": "a3M-yat_yKcc"
      },
      "outputs": [],
      "source": [
        "assert test_acc >= 0.92, 'Test accuracy is below 0.92 threshold'\n",
        "assert train_acc >= 0.91, 'Train accuracy is below 0.91 while test accuracy is fine. We recommend to check your model and data flow'"
      ]
    },
    {
      "cell_type": "markdown",
      "metadata": {
        "id": "GhTPEi0TyKcd"
      },
      "source": [
        "Обращаем внимане, код ниже предполагает, что ваша модель имеет содержится в переменной `model`, а файл `hw_mnist_data_dict.npy` находится в той же директории, что и ноутбук (он доступен в репозитории)."
      ]
    },
    {
      "cell_type": "code",
      "execution_count": 25,
      "metadata": {
        "colab": {
          "base_uri": "https://localhost:8080/"
        },
        "id": "oOttEZeQyKcd",
        "outputId": "c212379d-44b4-48a3-f4de-e8a2a45dd3c1"
      },
      "outputs": [
        {
          "output_type": "stream",
          "name": "stdout",
          "text": [
            "File saved to `submission_dict_mnist_task_1.json`\n"
          ]
        }
      ],
      "source": [
        "# do not change the code in the block below\n",
        "# __________start of block__________\n",
        "import os\n",
        "import json\n",
        "assert os.path.exists('hw_mnist_data_dict.npy'), 'Please, download `hw_mnist_data_dict.npy` and place it in the working directory'\n",
        "\n",
        "def get_predictions(model, eval_data, step=10):\n",
        "\n",
        "    predicted_labels = []\n",
        "    model.eval()\n",
        "    with torch.no_grad():\n",
        "        for idx in range(0, len(eval_data), step):\n",
        "            y_predicted = model(eval_data[idx:idx+step].reshape(-1, 784))\n",
        "            predicted_labels.append(y_predicted.argmax(dim=1))\n",
        "\n",
        "    predicted_labels = torch.cat(predicted_labels).numpy()\n",
        "    predicted_labels = ','.join([str(x) for x in list(predicted_labels)])\n",
        "    return predicted_labels\n",
        "\n",
        "loaded_data_dict = np.load('hw_mnist_data_dict.npy', allow_pickle=True)\n",
        "\n",
        "submission_dict = {\n",
        "    'train': get_predictions(model, torch.FloatTensor(loaded_data_dict.item()['train'])),\n",
        "    'test': get_predictions(model, torch.FloatTensor(loaded_data_dict.item()['test']))\n",
        "}\n",
        "\n",
        "with open('submission_dict_mnist_task_1.json', 'w') as iofile:\n",
        "    json.dump(submission_dict, iofile)\n",
        "print('File saved to `submission_dict_mnist_task_1.json`')\n",
        "# __________end of block__________"
      ]
    },
    {
      "cell_type": "markdown",
      "metadata": {
        "id": "t_ye7c4byKcd"
      },
      "source": [
        "### Сдача задания\n",
        "Сдайте сгенерированный файл в соответствующую задачу в соревновании, а именно:\n",
        "    \n",
        "* `submission_dict_mnist_task_1.json` в задачу Warmup (hw_mnist)"
      ]
    },
    {
      "cell_type": "markdown",
      "metadata": {
        "id": "mcbsp3xQyKcd"
      },
      "source": [
        "На этом задание завершено. Поздравляем!"
      ]
    }
  ],
  "metadata": {
    "kernelspec": {
      "display_name": "py3_research",
      "language": "python",
      "name": "python3"
    },
    "language_info": {
      "codemirror_mode": {
        "name": "ipython",
        "version": 3
      },
      "file_extension": ".py",
      "mimetype": "text/x-python",
      "name": "python",
      "nbconvert_exporter": "python",
      "pygments_lexer": "ipython3",
      "version": "3.9.16"
    },
    "colab": {
      "provenance": [],
      "include_colab_link": true
    }
  },
  "nbformat": 4,
  "nbformat_minor": 0
}